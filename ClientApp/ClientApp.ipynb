{
 "cells": [
  {
   "cell_type": "code",
   "execution_count": 58,
   "metadata": {},
   "outputs": [
    {
     "name": "stdout",
     "output_type": "stream",
     "text": [
      "Process:0 0.792401s 0.8%\n"
     ]
    }
   ],
   "source": [
    "import urllib\n",
    "# If you are using Python 3+, import urllib instead of urllib2\n",
    "import requests\n",
    "import json \n",
    "import pandas\n",
    "import datetime\n",
    "import random\n",
    "import argparse\n",
    "#import numpy as np\n",
    "import datetime\n",
    "import os\n",
    "import re\n",
    "import time\n",
    "import math\n",
    "from mpi4py import MPI\n",
    "\n",
    "mpi_comm  = MPI.COMM_WORLD\n",
    "status    = MPI.Status()\n",
    "comm_size = mpi_comm.Get_size()\n",
    "rank      = mpi_comm.Get_rank()\n",
    "\n",
    "df = pandas.read_csv('ClientTest.csv')\n",
    "sampleSize=10\n",
    "started = datetime.datetime.now()\n",
    "sampled_range = random.sample(range(len(df.index)), sampleSize)\n",
    "#print(\"Expected Actual\")\n",
    "success = 0;\n",
    "for i in sampled_range:\n",
    "    reviewText = df.loc[i][0];\n",
    "    expected = df.loc[i][1];\n",
    "    data =  {\n",
    "\n",
    "            \"Inputs\": {\n",
    "\n",
    "                    \"input1\":\n",
    "                    {\n",
    "                        \"ColumnNames\": [\"reviewText\"],\n",
    "                        \"Values\": [ [ reviewText ] ]\n",
    "                    },        },\n",
    "                \"GlobalParameters\": {\n",
    "            }\n",
    "        }\n",
    "\n",
    "    \n",
    "    initBody = json.dumps(data)\n",
    "    body = str.encode(initBody)\n",
    "\n",
    "    url = 'https://ussouthcentral.services.azureml.net/workspaces/7654e77b4a8c4df19d3774dad4e5bd99/services/e984c0fdf53b4379880a967ac949fd7e/execute?api-version=2.0&details=true'\n",
    "    api_key = 'TN59tYi2fz/rI93YwmiTRVjThRGBGjQ+vnL+Gf3sKlv34kmvLzPske0SsR23bRiOQHpyMdgWKvUNaWTHwvTClA==' # Replace this with the API key for the web service\n",
    "    headers = {'Content-Type':'application/json', 'Authorization':('Bearer '+ api_key)}\n",
    "\n",
    "    response = requests.post(url, headers=headers, data=body) \n",
    "    if (response.json()[\"Results\"][\"output1\"][\"value\"][\"Values\"][0][0] == \"Positive\"):\n",
    "        actual=1\n",
    "    else:\n",
    "        actual=0\n",
    "    if expected==actual:\n",
    "        success=success+1\n",
    "    \n",
    "    #print(expected, actual)\n",
    "    \n",
    "completed = datetime.datetime.now()\n",
    "averageTime = completed-started\n",
    "print(\"Process:\", rank, \" \", (averageTime/sampleSize).total_seconds, \"s \", success/sampleSize, \"%\", sep=\"\")"
   ]
  },
  {
   "cell_type": "code",
   "execution_count": 76,
   "metadata": {},
   "outputs": [
    {
     "name": "stdout",
     "output_type": "stream",
     "text": [
      " and stayed for everything else. It really is as quick as lightning\n"
     ]
    }
   ],
   "source": [
    "import csv\n",
    "with open('ClientTest.csv', newline='', encoding=\"utf8\") as csvfile:\n",
    "    reviews = csv.DictReader(csvfile, quotechar='|')\n",
    "    for row in reviews:\n",
    "#        print(row['review'], row['rating'])\n",
    "        print( row['rating'])\n",
    "        break"
   ]
  },
  {
   "cell_type": "code",
   "execution_count": null,
   "metadata": {},
   "outputs": [],
   "source": []
  }
 ],
 "metadata": {
  "kernelspec": {
   "display_name": "Python 3",
   "language": "python",
   "name": "python3"
  },
  "language_info": {
   "codemirror_mode": {
    "name": "ipython",
    "version": 3
   },
   "file_extension": ".py",
   "mimetype": "text/x-python",
   "name": "python",
   "nbconvert_exporter": "python",
   "pygments_lexer": "ipython3",
   "version": "3.7.6"
  }
 },
 "nbformat": 4,
 "nbformat_minor": 4
}
