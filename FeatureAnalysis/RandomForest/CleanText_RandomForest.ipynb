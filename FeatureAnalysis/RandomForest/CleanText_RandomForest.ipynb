{
  "nbformat": 4,
  "nbformat_minor": 0,
  "metadata": {
    "kernelspec": {
      "display_name": "Python 3",
      "language": "python",
      "name": "python3"
    },
    "language_info": {
      "codemirror_mode": {
        "name": "ipython",
        "version": 3
      },
      "file_extension": ".py",
      "mimetype": "text/x-python",
      "name": "python",
      "nbconvert_exporter": "python",
      "pygments_lexer": "ipython3",
      "version": "3.7.3"
    },
    "colab": {
      "name": "CleanText_RandomForest.ipynb",
      "provenance": [],
      "collapsed_sections": []
    }
  },
  "cells": [
    {
      "cell_type": "markdown",
      "metadata": {
        "id": "ck-OQPs194s4"
      },
      "source": [
        "### General idea\n",
        "1. Clean dataset => dfClean\n",
        "2. Vectorize words => to probability density\n",
        "3. Perform logistic regression on vectorized words \n",
        "    of scales of reviews 0 (0,.1),1 (.2,.3) ,2 (.4,.5),3 (.6,.7) ,4 (.8,.9, 1) reviews"
      ]
    },
    {
      "cell_type": "code",
      "metadata": {
        "id": "IPEt1enN94s6",
        "outputId": "3e00f0cf-5a27-41cf-fe81-4df5a67dd3b2",
        "colab": {
          "base_uri": "https://localhost:8080/",
          "height": 70
        }
      },
      "source": [
        "# Read data set and stop words\n",
        "import pandas as pd\n",
        "import re \n",
        "import nltk\n",
        "import numpy as np\n",
        "import time\n",
        "from sklearn.metrics import roc_curve, auc\n",
        "nltk.download('stopwords')\n",
        "df = pd.read_csv (r'/content/AppReview.csv')\n",
        "len(df.index)"
      ],
      "execution_count": 1,
      "outputs": [
        {
          "output_type": "stream",
          "text": [
            "[nltk_data] Downloading package stopwords to /root/nltk_data...\n",
            "[nltk_data]   Unzipping corpora/stopwords.zip.\n"
          ],
          "name": "stdout"
        },
        {
          "output_type": "execute_result",
          "data": {
            "text/plain": [
              "26021"
            ]
          },
          "metadata": {
            "tags": []
          },
          "execution_count": 1
        }
      ]
    },
    {
      "cell_type": "code",
      "metadata": {
        "id": "4flL9X9k94s_"
      },
      "source": [
        "# Corpus of stop words\n",
        "from nltk.corpus import stopwords"
      ],
      "execution_count": 2,
      "outputs": []
    },
    {
      "cell_type": "code",
      "metadata": {
        "id": "mEFJxUFC94tC"
      },
      "source": [
        "# processes a review and returns a list of words\n",
        "def review_to_words(review, string = True, remove_stopwords=True):\n",
        "    # Remove HTML\n",
        "    #review_text = BeautifulSoup(review).get_text()\n",
        "    review_text=review\n",
        "    # Remove non-letters\n",
        "    review_text = re.sub(\"[^a-zA-Z]\",\" \", review_text)\n",
        "    # Convert words to lower case and split them\n",
        "    words = review_text.lower().split()\n",
        "    # Optionally remove stop words (false by default)\n",
        "    if remove_stopwords:\n",
        "        stops = set(stopwords.words(\"english\"))\n",
        "        words = [w for w in words if not w in stops]\n",
        "    if string:\n",
        "        return \" \".join(words)\n",
        "    else:\n",
        "        return words"
      ],
      "execution_count": 3,
      "outputs": []
    },
    {
      "cell_type": "code",
      "metadata": {
        "id": "4QImo6Sn94tG",
        "outputId": "9f0e84cb-8273-41ee-f8be-f94922c63ebf",
        "colab": {
          "base_uri": "https://localhost:8080/",
          "height": 399
        }
      },
      "source": [
        "#Clean up text\n",
        "#Remove non-ascii text\n",
        "#Remove all rows missing reviewerName\n",
        "def fixString(x):\n",
        "    return x.encode('ascii',errors='ignore')\n",
        "\n",
        "# df[[\"reviewText\"]]=df[[\"reviewText\"]].apply(lambda x: str(x[\"reviewText\"]).encode('ascii',errors='ignore').decode(), axis=1)\n",
        "# df[[\"reviewerName\"]]=df[[\"reviewerName\"]].apply(lambda x: str(x[\"reviewerName\"]).encode('ascii',errors='ignore').decode(), axis=1)\n",
        "df[[\"reviewText\"]]=df[[\"reviewText\"]].apply(lambda x: review_to_words(x[\"reviewText\"]), axis=1)\n",
        "df[[\"reviewerName\"]]=df[[\"reviewerName\"]].apply(lambda x: str(x[\"reviewerName\"]).encode('ascii',errors='ignore').decode(), axis=1)\n",
        "\n",
        "dfCleaned=df[df['reviewText'].str.strip().astype(bool)]\n",
        "dfCleaned=dfCleaned[df['reviewerName'].str.strip().astype(bool)]\n",
        "\n",
        "#\n",
        "dfCleaned"
      ],
      "execution_count": 4,
      "outputs": [
        {
          "output_type": "execute_result",
          "data": {
            "text/html": [
              "<div>\n",
              "<style scoped>\n",
              "    .dataframe tbody tr th:only-of-type {\n",
              "        vertical-align: middle;\n",
              "    }\n",
              "\n",
              "    .dataframe tbody tr th {\n",
              "        vertical-align: top;\n",
              "    }\n",
              "\n",
              "    .dataframe thead th {\n",
              "        text-align: right;\n",
              "    }\n",
              "</style>\n",
              "<table border=\"1\" class=\"dataframe\">\n",
              "  <thead>\n",
              "    <tr style=\"text-align: right;\">\n",
              "      <th></th>\n",
              "      <th>appID</th>\n",
              "      <th>reviewerName</th>\n",
              "      <th>reviewText</th>\n",
              "      <th>reviewerRating</th>\n",
              "      <th>reviewDate</th>\n",
              "      <th>textAnalytics</th>\n",
              "    </tr>\n",
              "  </thead>\n",
              "  <tbody>\n",
              "    <tr>\n",
              "      <th>0</th>\n",
              "      <td>3</td>\n",
              "      <td>Eric Hansen</td>\n",
              "      <td>love well worth money full version came ad blo...</td>\n",
              "      <td>1.0</td>\n",
              "      <td>2017/07/07 00:00:00</td>\n",
              "      <td>NaN</td>\n",
              "    </tr>\n",
              "    <tr>\n",
              "      <th>1</th>\n",
              "      <td>3</td>\n",
              "      <td>Jacob N.</td>\n",
              "      <td>awful bug allow use space bar want type search...</td>\n",
              "      <td>0.4</td>\n",
              "      <td>2017/08/29 00:00:00</td>\n",
              "      <td>NaN</td>\n",
              "    </tr>\n",
              "    <tr>\n",
              "      <th>2</th>\n",
              "      <td>3</td>\n",
              "      <td>Higgins Family</td>\n",
              "      <td>would stars except bugs example incognito tab ...</td>\n",
              "      <td>0.8</td>\n",
              "      <td>2017/10/02 00:00:00</td>\n",
              "      <td>NaN</td>\n",
              "    </tr>\n",
              "    <tr>\n",
              "      <th>3</th>\n",
              "      <td>3</td>\n",
              "      <td>Rajko Dikmann</td>\n",
              "      <td>worked perfect weeks ago browsing experience s...</td>\n",
              "      <td>0.4</td>\n",
              "      <td>2017/09/28 00:00:00</td>\n",
              "      <td>NaN</td>\n",
              "    </tr>\n",
              "    <tr>\n",
              "      <th>4</th>\n",
              "      <td>3</td>\n",
              "      <td>Sergei Garcia</td>\n",
              "      <td>hands best browser play store even flagship de...</td>\n",
              "      <td>1.0</td>\n",
              "      <td>2017/07/09 00:00:00</td>\n",
              "      <td>NaN</td>\n",
              "    </tr>\n",
              "    <tr>\n",
              "      <th>...</th>\n",
              "      <td>...</td>\n",
              "      <td>...</td>\n",
              "      <td>...</td>\n",
              "      <td>...</td>\n",
              "      <td>...</td>\n",
              "      <td>...</td>\n",
              "    </tr>\n",
              "    <tr>\n",
              "      <th>26016</th>\n",
              "      <td>1656</td>\n",
              "      <td>A Google User</td>\n",
              "      <td>getting old great keeps thinking age good thin...</td>\n",
              "      <td>1.0</td>\n",
              "      <td>2012/12/03 00:00:00</td>\n",
              "      <td>NaN</td>\n",
              "    </tr>\n",
              "    <tr>\n",
              "      <th>26017</th>\n",
              "      <td>1656</td>\n",
              "      <td>A Google User</td>\n",
              "      <td>fics hopelessly broken full review</td>\n",
              "      <td>0.4</td>\n",
              "      <td>2012/11/28 00:00:00</td>\n",
              "      <td>NaN</td>\n",
              "    </tr>\n",
              "    <tr>\n",
              "      <th>26018</th>\n",
              "      <td>1656</td>\n",
              "      <td>A Google User</td>\n",
              "      <td>good job good job good chess problem full review</td>\n",
              "      <td>1.0</td>\n",
              "      <td>2012/11/11 00:00:00</td>\n",
              "      <td>NaN</td>\n",
              "    </tr>\n",
              "    <tr>\n",
              "      <th>26019</th>\n",
              "      <td>1656</td>\n",
              "      <td>dhananjay naik</td>\n",
              "      <td>super good game full review</td>\n",
              "      <td>1.0</td>\n",
              "      <td>2012/12/05 00:00:00</td>\n",
              "      <td>NaN</td>\n",
              "    </tr>\n",
              "    <tr>\n",
              "      <th>26020</th>\n",
              "      <td>1656</td>\n",
              "      <td>A Google User</td>\n",
              "      <td>good fisher chess stupid interface much better...</td>\n",
              "      <td>0.0</td>\n",
              "      <td>NaN</td>\n",
              "      <td>NaN</td>\n",
              "    </tr>\n",
              "  </tbody>\n",
              "</table>\n",
              "<p>25886 rows × 6 columns</p>\n",
              "</div>"
            ],
            "text/plain": [
              "       appID    reviewerName  ...           reviewDate  textAnalytics\n",
              "0          3     Eric Hansen  ...  2017/07/07 00:00:00            NaN\n",
              "1          3        Jacob N.  ...  2017/08/29 00:00:00            NaN\n",
              "2          3  Higgins Family  ...  2017/10/02 00:00:00            NaN\n",
              "3          3   Rajko Dikmann  ...  2017/09/28 00:00:00            NaN\n",
              "4          3   Sergei Garcia  ...  2017/07/09 00:00:00            NaN\n",
              "...      ...             ...  ...                  ...            ...\n",
              "26016   1656   A Google User  ...  2012/12/03 00:00:00            NaN\n",
              "26017   1656   A Google User  ...  2012/11/28 00:00:00            NaN\n",
              "26018   1656   A Google User  ...  2012/11/11 00:00:00            NaN\n",
              "26019   1656  dhananjay naik  ...  2012/12/05 00:00:00            NaN\n",
              "26020   1656   A Google User  ...                  NaN            NaN\n",
              "\n",
              "[25886 rows x 6 columns]"
            ]
          },
          "metadata": {
            "tags": []
          },
          "execution_count": 4
        }
      ]
    },
    {
      "cell_type": "code",
      "metadata": {
        "id": "N5oTKehF94tK",
        "outputId": "5ae261ff-1837-4cd6-dabc-e2939ac33e3f",
        "colab": {
          "base_uri": "https://localhost:8080/",
          "height": 399
        }
      },
      "source": [
        "dfCleaned[['reviewText']]"
      ],
      "execution_count": 5,
      "outputs": [
        {
          "output_type": "execute_result",
          "data": {
            "text/html": [
              "<div>\n",
              "<style scoped>\n",
              "    .dataframe tbody tr th:only-of-type {\n",
              "        vertical-align: middle;\n",
              "    }\n",
              "\n",
              "    .dataframe tbody tr th {\n",
              "        vertical-align: top;\n",
              "    }\n",
              "\n",
              "    .dataframe thead th {\n",
              "        text-align: right;\n",
              "    }\n",
              "</style>\n",
              "<table border=\"1\" class=\"dataframe\">\n",
              "  <thead>\n",
              "    <tr style=\"text-align: right;\">\n",
              "      <th></th>\n",
              "      <th>reviewText</th>\n",
              "    </tr>\n",
              "  </thead>\n",
              "  <tbody>\n",
              "    <tr>\n",
              "      <th>0</th>\n",
              "      <td>love well worth money full version came ad blo...</td>\n",
              "    </tr>\n",
              "    <tr>\n",
              "      <th>1</th>\n",
              "      <td>awful bug allow use space bar want type search...</td>\n",
              "    </tr>\n",
              "    <tr>\n",
              "      <th>2</th>\n",
              "      <td>would stars except bugs example incognito tab ...</td>\n",
              "    </tr>\n",
              "    <tr>\n",
              "      <th>3</th>\n",
              "      <td>worked perfect weeks ago browsing experience s...</td>\n",
              "    </tr>\n",
              "    <tr>\n",
              "      <th>4</th>\n",
              "      <td>hands best browser play store even flagship de...</td>\n",
              "    </tr>\n",
              "    <tr>\n",
              "      <th>...</th>\n",
              "      <td>...</td>\n",
              "    </tr>\n",
              "    <tr>\n",
              "      <th>26016</th>\n",
              "      <td>getting old great keeps thinking age good thin...</td>\n",
              "    </tr>\n",
              "    <tr>\n",
              "      <th>26017</th>\n",
              "      <td>fics hopelessly broken full review</td>\n",
              "    </tr>\n",
              "    <tr>\n",
              "      <th>26018</th>\n",
              "      <td>good job good job good chess problem full review</td>\n",
              "    </tr>\n",
              "    <tr>\n",
              "      <th>26019</th>\n",
              "      <td>super good game full review</td>\n",
              "    </tr>\n",
              "    <tr>\n",
              "      <th>26020</th>\n",
              "      <td>good fisher chess stupid interface much better...</td>\n",
              "    </tr>\n",
              "  </tbody>\n",
              "</table>\n",
              "<p>25886 rows × 1 columns</p>\n",
              "</div>"
            ],
            "text/plain": [
              "                                              reviewText\n",
              "0      love well worth money full version came ad blo...\n",
              "1      awful bug allow use space bar want type search...\n",
              "2      would stars except bugs example incognito tab ...\n",
              "3      worked perfect weeks ago browsing experience s...\n",
              "4      hands best browser play store even flagship de...\n",
              "...                                                  ...\n",
              "26016  getting old great keeps thinking age good thin...\n",
              "26017                 fics hopelessly broken full review\n",
              "26018   good job good job good chess problem full review\n",
              "26019                        super good game full review\n",
              "26020  good fisher chess stupid interface much better...\n",
              "\n",
              "[25886 rows x 1 columns]"
            ]
          },
          "metadata": {
            "tags": []
          },
          "execution_count": 5
        }
      ]
    },
    {
      "cell_type": "markdown",
      "metadata": {
        "id": "8k1aDqkJ94tN"
      },
      "source": [
        "## Vectorize words\n",
        "### This is based on \n",
        "https://towardsdatascience.com/sentiment-analysis-a-how-to-guide-with-movie-reviews-9ae335e6bcb2\n",
        "With actual logistic regression:\n",
        "https://towardsdatascience.com/sentiment-classification-with-logistic-regression-analyzing-yelp-reviews-3981678c3b44\n"
      ]
    },
    {
      "cell_type": "code",
      "metadata": {
        "id": "YvvVrjyu94tN"
      },
      "source": [
        "from sklearn.model_selection import train_test_split\n",
        "\n",
        "dfReviews = dfCleaned['reviewText']\n",
        "dfTrain, dfTest = train_test_split(dfReviews, test_size=.1)"
      ],
      "execution_count": 6,
      "outputs": []
    },
    {
      "cell_type": "code",
      "metadata": {
        "id": "cPHkhAPU94tR"
      },
      "source": [
        "# import statements\n",
        "from sklearn.feature_extraction.text import CountVectorizer\n",
        "from sklearn.feature_extraction.text import TfidfVectorizer\n",
        "from sklearn.feature_extraction.text import TfidfTransformer\n",
        "\n",
        "# Initialize a bag of words\n",
        "#vectorizer = CountVectorizer(analyzer = \"word\", tokenizer = None, preprocessor = None, stop_words = None, max_features = 5000) \n",
        "vectorizer = CountVectorizer(analyzer = \"word\", tokenizer = None, preprocessor = None, stop_words = None, max_features = 1000) \n",
        "\n",
        "# Fit transform the data \n",
        "train_feat = vectorizer.fit_transform(dfTrain).toarray()\n",
        "test_feat = vectorizer.transform(dfTest).toarray()\n",
        "\n",
        "\n",
        "# TFIDF train set\n",
        "tfidf_transformer = TfidfTransformer().fit(train_feat)\n",
        "train_tfidf = tfidf_transformer.transform(train_feat)\n",
        " \n",
        "# apply tfidf to test set\n",
        "test_tfidf = tfidf_transformer.transform(test_feat)\n"
      ],
      "execution_count": 7,
      "outputs": []
    },
    {
      "cell_type": "code",
      "metadata": {
        "id": "d7mvzF-l94tX"
      },
      "source": [
        "#train data\n",
        "trainYdata = pd.merge(dfTrain.to_frame(), dfCleaned[['reviewerRating']], left_index=True, right_index=True)\n",
        "#determined feature names\n",
        "featureNamesList=vectorizer.get_feature_names()"
      ],
      "execution_count": 8,
      "outputs": []
    },
    {
      "cell_type": "code",
      "metadata": {
        "id": "SPSvngO-94ta",
        "outputId": "fb430ccf-dddb-47c8-c2b3-d09e12cd2894",
        "colab": {
          "base_uri": "https://localhost:8080/",
          "height": 194
        }
      },
      "source": [
        "trainYdata.head()"
      ],
      "execution_count": 9,
      "outputs": [
        {
          "output_type": "execute_result",
          "data": {
            "text/html": [
              "<div>\n",
              "<style scoped>\n",
              "    .dataframe tbody tr th:only-of-type {\n",
              "        vertical-align: middle;\n",
              "    }\n",
              "\n",
              "    .dataframe tbody tr th {\n",
              "        vertical-align: top;\n",
              "    }\n",
              "\n",
              "    .dataframe thead th {\n",
              "        text-align: right;\n",
              "    }\n",
              "</style>\n",
              "<table border=\"1\" class=\"dataframe\">\n",
              "  <thead>\n",
              "    <tr style=\"text-align: right;\">\n",
              "      <th></th>\n",
              "      <th>reviewText</th>\n",
              "      <th>reviewerRating</th>\n",
              "    </tr>\n",
              "  </thead>\n",
              "  <tbody>\n",
              "    <tr>\n",
              "      <th>6493</th>\n",
              "      <td>latest update broke says either network error ...</td>\n",
              "      <td>0.6</td>\n",
              "    </tr>\n",
              "    <tr>\n",
              "      <th>14503</th>\n",
              "      <td>problem new update love app since recent updat...</td>\n",
              "      <td>1.0</td>\n",
              "    </tr>\n",
              "    <tr>\n",
              "      <th>20383</th>\n",
              "      <td>brillaint app serves purpose full review</td>\n",
              "      <td>1.0</td>\n",
              "    </tr>\n",
              "    <tr>\n",
              "      <th>8965</th>\n",
              "      <td>using keepassx linux years keepassdroid perfec...</td>\n",
              "      <td>1.0</td>\n",
              "    </tr>\n",
              "    <tr>\n",
              "      <th>21693</th>\n",
              "      <td>missing feature option reverse changes full re...</td>\n",
              "      <td>0.8</td>\n",
              "    </tr>\n",
              "  </tbody>\n",
              "</table>\n",
              "</div>"
            ],
            "text/plain": [
              "                                              reviewText  reviewerRating\n",
              "6493   latest update broke says either network error ...             0.6\n",
              "14503  problem new update love app since recent updat...             1.0\n",
              "20383           brillaint app serves purpose full review             1.0\n",
              "8965   using keepassx linux years keepassdroid perfec...             1.0\n",
              "21693  missing feature option reverse changes full re...             0.8"
            ]
          },
          "metadata": {
            "tags": []
          },
          "execution_count": 9
        }
      ]
    },
    {
      "cell_type": "code",
      "metadata": {
        "id": "0oOspiof94td",
        "outputId": "4cd32a92-5c16-4ede-f551-e919ea6e4760",
        "colab": {
          "base_uri": "https://localhost:8080/",
          "height": 232
        }
      },
      "source": [
        "# look at data for training\n",
        "type(dfTrain)\n",
        "stopcounter = 0\n",
        "for index, value in dfTrain.items():\n",
        "    print(f\"Index : {index}, Value : {value}\")\n",
        "    stopcounter=stopcounter+1\n",
        "    if stopcounter > 10:\n",
        "        break"
      ],
      "execution_count": 10,
      "outputs": [
        {
          "output_type": "stream",
          "text": [
            "Index : 6493, Value : latest update broke says either network error wrong credentials edit issue uninstall reinstall app add credentials score knocked stars full review\n",
            "Index : 14503, Value : problem new update love app since recent update add audio book get files audiobooks different book name full review\n",
            "Index : 20383, Value : brillaint app serves purpose full review\n",
            "Index : 8965, Value : using keepassx linux years keepassdroid perfect companion safe access passwords important information mobile devices full review\n",
            "Index : 21693, Value : missing feature option reverse changes full review\n",
            "Index : 14591, Value : perfect exactly need nothing full review\n",
            "Index : 14765, Value : great reader everything reader needs simple use experience crash opening favorites menu old phone happened new one full review\n",
            "Index : 17947, Value : loved full review\n",
            "Index : 16868, Value : hit points thing would like see added monsters base hit points full review\n",
            "Index : 24586, Value : great app keep track expenses full review\n",
            "Index : 12595, Value : bad keepass droid much better app keepass droid option adding attachment custom string liitle faster full review\n"
          ],
          "name": "stdout"
        }
      ]
    },
    {
      "cell_type": "code",
      "metadata": {
        "id": "Dt6svxfA94tg",
        "outputId": "aba1673f-e7c8-4ca6-b419-a2aeb02e9371",
        "colab": {
          "base_uri": "https://localhost:8080/",
          "height": 710
        }
      },
      "source": [
        "# Dump some vectorized words and probablities\n",
        "import scipy.sparse\n",
        "\n",
        "featureNamesList=vectorizer.get_feature_names()\n",
        "type(dfTrain)\n",
        "\n",
        "cx = scipy.sparse.coo_matrix(train_feat)\n",
        "cx2 = scipy.sparse.coo_matrix(train_tfidf)\n",
        "\n",
        "\n",
        "print(dfTrain.iloc[0])\n",
        "for i,j,v in zip(cx.row, cx.col, cx.data):\n",
        "    if i!=0:\n",
        "        break\n",
        "    print(\"(%d, %d), %s = %s\" % (i,j,featureNamesList[j], v))\n",
        "    \n",
        "print(\"\\r\\n\\r\\nThe weighted results\\r\\n\")\n",
        "for i,j,v in zip(cx2.row, cx2.col, cx2.data):\n",
        "    if i!=0:\n",
        "        break\n",
        "    print(\"(%d, %d), %s = %s\" % (i,j,featureNamesList[j], v))"
      ],
      "execution_count": 11,
      "outputs": [
        {
          "output_type": "stream",
          "text": [
            "latest update broke says either network error wrong credentials edit issue uninstall reinstall app add credentials score knocked stars full review\n",
            "(0, 12), add = 1\n",
            "(0, 46), app = 1\n",
            "(0, 190), credentials = 2\n",
            "(0, 255), edit = 1\n",
            "(0, 260), either = 1\n",
            "(0, 271), error = 1\n",
            "(0, 340), full = 1\n",
            "(0, 434), issue = 1\n",
            "(0, 463), latest = 1\n",
            "(0, 570), network = 1\n",
            "(0, 717), reinstall = 1\n",
            "(0, 733), review = 1\n",
            "(0, 752), says = 1\n",
            "(0, 822), stars = 1\n",
            "(0, 919), uninstall = 1\n",
            "(0, 924), update = 1\n",
            "(0, 990), wrong = 1\n",
            "\r\n",
            "\r\n",
            "The weighted results\r\n",
            "\n",
            "(0, 990), wrong = 0.25501774307999764\n",
            "(0, 924), update = 0.17441393061632596\n",
            "(0, 919), uninstall = 0.2474247662181154\n",
            "(0, 822), stars = 0.1850342383529391\n",
            "(0, 752), says = 0.20080182018643758\n",
            "(0, 733), review = 0.039470302846150225\n",
            "(0, 717), reinstall = 0.269843268194201\n",
            "(0, 570), network = 0.23809442955848886\n",
            "(0, 463), latest = 0.2341441051393546\n",
            "(0, 434), issue = 0.21034810022810635\n",
            "(0, 340), full = 0.039470302846150225\n",
            "(0, 271), error = 0.24336495406484696\n",
            "(0, 260), either = 0.2526952907244735\n",
            "(0, 255), edit = 0.21232532342060245\n",
            "(0, 190), credentials = 0.577723126813334\n",
            "(0, 46), app = 0.08049444005343656\n",
            "(0, 12), add = 0.16932487908640984\n"
          ],
          "name": "stdout"
        }
      ]
    },
    {
      "cell_type": "code",
      "metadata": {
        "id": "9jRRTMmF94ti",
        "outputId": "6645f197-03d1-4358-82d3-c3b9ef92ddda",
        "colab": {
          "base_uri": "https://localhost:8080/",
          "height": 106
        }
      },
      "source": [
        "# look at some more data\n",
        "import scipy.sparse\n",
        "\n",
        "featureNamesList=vectorizer.get_feature_names()\n",
        "type(test_tfidf)\n",
        "\n",
        "cx = scipy.sparse.coo_matrix(test_tfidf)\n",
        "\n",
        "print(dfTest.iloc[0])\n",
        "for i,j,v in zip(cx.row, cx.col, cx.data):\n",
        "    if i!=0:\n",
        "        break\n",
        "    print(\"(%d, %d), %s = %s\" % (i,j,featureNamesList[j], v))\n"
      ],
      "execution_count": 12,
      "outputs": [
        {
          "output_type": "stream",
          "text": [
            "excellent better full review\n",
            "(0, 733), review = 0.15888010494917743\n",
            "(0, 340), full = 0.15888010494917743\n",
            "(0, 282), excellent = 0.6812190388151848\n",
            "(0, 83), better = 0.6967458974822834\n"
          ],
          "name": "stdout"
        }
      ]
    },
    {
      "cell_type": "markdown",
      "metadata": {
        "id": "TMjwxQ9c94tm"
      },
      "source": [
        "### Modelling part\n",
        "1. Leverage the raw vector count and the tf-idf weighted version"
      ]
    },
    {
      "cell_type": "code",
      "metadata": {
        "id": "k6ORoMv394tn"
      },
      "source": [
        "# # Just looking at some data\n",
        "# train_tfidf\n",
        "# dfTrain\n",
        "# print(df.iloc[105146])\n",
        "# dfTrain\n",
        "# df\n",
        "# train_tfidf.todense()\n",
        "# dfTrain.to_frame()"
      ],
      "execution_count": 17,
      "outputs": []
    },
    {
      "cell_type": "code",
      "metadata": {
        "id": "wU6WO7ja94tr"
      },
      "source": [
        "# Get trained Y data and test Y data\n",
        "trainYdata = pd.merge(dfTrain.to_frame(), dfCleaned[['reviewerRating']], left_index=True, right_index=True)\n",
        "testYdata = pd.merge(dfTest.to_frame(), dfCleaned[['reviewerRating']], left_index=True, right_index=True)"
      ],
      "execution_count": 13,
      "outputs": []
    },
    {
      "cell_type": "code",
      "metadata": {
        "id": "vyQwGf6g94tv"
      },
      "source": [
        "# Get trained X data and test X data\n",
        "trainXdata = train_tfidf.todense()\n",
        "testXdata = test_tfidf.todense()\n"
      ],
      "execution_count": 14,
      "outputs": []
    },
    {
      "cell_type": "code",
      "metadata": {
        "id": "jEmSeJJP94ty"
      },
      "source": [
        "from sklearn.datasets import load_iris\n",
        "# from sklearn.linear_model import LogisticRegression\n",
        "from sklearn.ensemble import RandomForestClassifier"
      ],
      "execution_count": 15,
      "outputs": []
    },
    {
      "cell_type": "code",
      "metadata": {
        "id": "4tO_-yta94t3"
      },
      "source": [
        "# Train data - map the y to ints of scales of reviews 0,1,2,3,4 reviews\n",
        "y = trainYdata[['reviewerRating']]\n",
        "y_int = trainYdata['reviewerRating'].apply(lambda x: 0 if x<.2 else (1 if x<.4 else (2 if x<.6 else (3 if x<.8 else 4))))\n",
        "\n",
        "X = trainXdata\n"
      ],
      "execution_count": 16,
      "outputs": []
    },
    {
      "cell_type": "code",
      "metadata": {
        "id": "pAY03bso94uI"
      },
      "source": [
        "# Train data - map the y to ints of scales of reviews 0,1,2,3,4 reviews\n",
        "y = trainYdata[['reviewerRating']]\n",
        "y_int = trainYdata['reviewerRating'].apply(lambda x: 0 if x<.2 else (1 if x<.4 else (2 if x<.6 else (3 if x<.8 else 4))))\n",
        "\n",
        "X = trainXdata\n",
        "j=25\n",
        "\n",
        "i_list = []\n",
        "time_list = []\n",
        "train_pred_list = []\n",
        "train_prob_list = []\n",
        "train_score_list = []\n",
        "test_pred_list = []\n",
        "test_prob_list = []\n",
        "test_score_list = []\n",
        "\n",
        "\n",
        "# new_dataFrame = pd.DataFrame(data, columns = ['Estimators', 'Time', 'Train Pred', 'Train Prob', 'Train Score', 'Test Pred', 'Test Prob', 'Test Score'])\n",
        "\n",
        "for i in range(100, 1001, 25):\n",
        "  start_time = time.time()\n",
        "  clf = RandomForestClassifier(n_estimators=i,max_depth=j,n_jobs=-1).fit(X, y_int)\n",
        "  end_time = time.time()\n",
        "  time_diff = end_time - start_time\n",
        "  # Check trained accuracy\n",
        "  train_pred = clf.predict(X)\n",
        "  train_prob = clf.predict_proba(X)\n",
        "  train_score = clf.score(X, y_int)\n",
        "  #Check tested accuracy\n",
        "  y_int_test = testYdata['reviewerRating'].apply(lambda x: 0 if x<.2 else (1 if x<.4 else (2 if x<.6 else (3 if x<.8 else 4))))\n",
        "  test_pred = clf.predict(testXdata)\n",
        "  test_prob = clf.predict_proba(testXdata)\n",
        "  test_score = clf.score(testXdata, y_int_test)\n",
        "  i_list.append(i)\n",
        "  time_list.append(time_diff)\n",
        "  train_pred_list.append(train_pred)\n",
        "  train_prob_list.append(train_prob)\n",
        "  train_score_list.append(train_score)\n",
        "  test_pred_list.append(test_pred)\n",
        "  test_prob_list.append(test_prob)\n",
        "  test_score_list.append(test_score)\n",
        "  j+=25\n",
        "\n",
        "new_dict = {'Estimators': i_list, 'Time': time_list, 'Train Pred': train_pred_list, 'Train Prob':  train_prob_list, 'Train Score': train_score_list, 'Test Pred': test_pred_list, 'Test Prob': test_prob_list, 'Test Score': test_score_list}\n",
        "\n",
        "new_dataFrame = pd.DataFrame(new_dict)\n",
        "\n",
        "new_dataFrame.to_csv('/content/summ1000.csv')\n",
        "\n",
        "# np.savetxt(\"/content/time.csv\", time_list, delimiter =\", \", fmt ='% s') \n",
        "\n",
        "# # Check trained accuracy\n",
        "# clf.predict(X[:2, :])\n",
        "# clf.predict_proba(X[:2, :])\n",
        "# clf.score(X, y_int)\n",
        "# #Check tested accuracy\n",
        "# clf.predict(testXdata)\n",
        "# clf.predict_proba(testXdata)\n",
        "# clf.score(testXdata, y_int_test)\n"
      ],
      "execution_count": 42,
      "outputs": []
    },
    {
      "cell_type": "code",
      "metadata": {
        "id": "KTGCrBv8VrTj",
        "outputId": "5fd00f7a-3dc1-4ade-8eb3-415df01fe7fc",
        "colab": {
          "base_uri": "https://localhost:8080/",
          "height": 331
        }
      },
      "source": [
        "import matplotlib\n",
        "import matplotlib.pyplot as plt\n",
        "\n",
        "plt.xlabel(\"Estimators\")\n",
        "plt.ylabel(\"Time\")\n",
        "plt.title(\"A test graph\")\n",
        "plt.plot(i_list, time_list, 'rx')\n",
        "# for j in range(len(new_dataFrame)):\n",
        "#     plt.plot(i_list[j],time_list[j])\n",
        "plt.legend()\n",
        "plt.show()\n",
        "plt.savefig('/content/TM_E1000.png')"
      ],
      "execution_count": 43,
      "outputs": [
        {
          "output_type": "stream",
          "text": [
            "No handles with labels found to put in legend.\n"
          ],
          "name": "stderr"
        },
        {
          "output_type": "display_data",
          "data": {
            "image/png": "[encoded data removed]",
            "text/plain": [
              "<Figure size 432x288 with 1 Axes>"
            ]
          },
          "metadata": {
            "tags": [],
            "needs_background": "light"
          }
        },
        {
          "output_type": "display_data",
          "data": {
            "text/plain": [
              "<Figure size 432x288 with 0 Axes>"
            ]
          },
          "metadata": {
            "tags": []
          }
        }
      ]
    },
    {
      "cell_type": "code",
      "metadata": {
        "id": "4nh_X-K2V5aI",
        "outputId": "d40db3e6-9b99-46d1-f3d4-f957372550ea",
        "colab": {
          "base_uri": "https://localhost:8080/",
          "height": 331
        }
      },
      "source": [
        "plt.xlabel(\"Estimators\")\n",
        "plt.ylabel(\"Train Accuracy\")\n",
        "plt.title(\"A test graph\")\n",
        "plt.plot(i_list, train_score_list, 'gx')\n",
        "# for j in range(len(new_dataFrame)):\n",
        "#     plt.plot(i_list[j],train_score_list[j])\n",
        "plt.legend()\n",
        "plt.show()\n",
        "plt.savefig('/content/TRN_A1000.png')"
      ],
      "execution_count": 44,
      "outputs": [
        {
          "output_type": "stream",
          "text": [
            "No handles with labels found to put in legend.\n"
          ],
          "name": "stderr"
        },
        {
          "output_type": "display_data",
          "data": {
            "image/png": "[encoded data removed]",
            "text/plain": [
              "<Figure size 432x288 with 1 Axes>"
            ]
          },
          "metadata": {
            "tags": [],
            "needs_background": "light"
          }
        },
        {
          "output_type": "display_data",
          "data": {
            "text/plain": [
              "<Figure size 432x288 with 0 Axes>"
            ]
          },
          "metadata": {
            "tags": []
          }
        }
      ]
    },
    {
      "cell_type": "code",
      "metadata": {
        "id": "8FU_bSCwV-hy",
        "outputId": "a97653ba-7eb1-4d51-eb0d-6da664aa2849",
        "colab": {
          "base_uri": "https://localhost:8080/",
          "height": 331
        }
      },
      "source": [
        "plt.xlabel(\"Estimators\")\n",
        "plt.ylabel(\"Test Accuracy\")\n",
        "plt.title(\"A test graph\")\n",
        "plt.plot(i_list, test_score_list, 'bx')\n",
        "# for j in range(len(new_dataFrame)):\n",
        "#     plt.plot(i_list[j],test_score_list[j])\n",
        "plt.legend()\n",
        "plt.show()\n",
        "plt.savefig('/content/TST_A1000.png')"
      ],
      "execution_count": 45,
      "outputs": [
        {
          "output_type": "stream",
          "text": [
            "No handles with labels found to put in legend.\n"
          ],
          "name": "stderr"
        },
        {
          "output_type": "display_data",
          "data": {
            "image/png": "[encoded data removed]",
            "text/plain": [
              "<Figure size 432x288 with 1 Axes>"
            ]
          },
          "metadata": {
            "tags": [],
            "needs_background": "light"
          }
        },
        {
          "output_type": "display_data",
          "data": {
            "text/plain": [
              "<Figure size 432x288 with 0 Axes>"
            ]
          },
          "metadata": {
            "tags": []
          }
        }
      ]
    },
    {
      "cell_type": "code",
      "metadata": {
        "id": "IadsGZX_94uV"
      },
      "source": [
        ""
      ],
      "execution_count": null,
      "outputs": []
    }
  ]
}